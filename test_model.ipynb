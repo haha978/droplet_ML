{
 "cells": [
  {
   "cell_type": "code",
   "execution_count": 1,
   "metadata": {},
   "outputs": [
    {
     "name": "stderr",
     "output_type": "stream",
     "text": [
      "/home/leom/code/venv/lib/python3.12/site-packages/tqdm/auto.py:21: TqdmWarning: IProgress not found. Please update jupyter and ipywidgets. See https://ipywidgets.readthedocs.io/en/stable/user_install.html\n",
      "  from .autonotebook import tqdm as notebook_tqdm\n"
     ]
    },
    {
     "name": "stdout",
     "output_type": "stream",
     "text": [
      "Downloading from https://www.kaggle.com/api/v1/datasets/download/theiturhs/brain-tumor-mri-classification-dataset?dataset_version_number=1...\n"
     ]
    },
    {
     "name": "stderr",
     "output_type": "stream",
     "text": [
      "100%|██████████| 144M/144M [00:05<00:00, 26.4MB/s] "
     ]
    },
    {
     "name": "stdout",
     "output_type": "stream",
     "text": [
      "Extracting files...\n"
     ]
    },
    {
     "name": "stderr",
     "output_type": "stream",
     "text": [
      "\n"
     ]
    }
   ],
   "source": [
    "import numpy as np"
   ]
  },
  {
   "cell_type": "code",
   "execution_count": 2,
   "metadata": {},
   "outputs": [
    {
     "name": "stdout",
     "output_type": "stream",
     "text": [
      "Path to dataset files: /home/leom/.cache/kagglehub/datasets/theiturhs/brain-tumor-mri-classification-dataset/versions/1\n"
     ]
    }
   ],
   "source": [
    "\"\"\"\n",
    "TODO\n",
    "1. make a database that can load the images quickly (need)\n",
    "2. create an image model\n",
    "\n",
    "\"\"\"\n",
    "import os\n",
    "import glob\n",
    "import numpy as np\n",
    "from PIL import Image\n",
    "import h5py\n",
    "\n",
    "# Set image dimensions\n",
    "img_height = 224\n",
    "img_width = 224\n",
    "\n",
    "# Set paths to image directories\n",
    "img_dir_type1 = '/home/leom/code/Brain_Tumor_MRI_Image_Dataset/Training/glioma'\n",
    "img_dir_type2 = '/home/leom/code/Brain_Tumor_MRI_Image_Dataset/Training/pituitary'\n",
    "\n",
    "# Create lists to store image data and labels\n",
    "img_data_type1 = []\n",
    "img_data_type2 = []\n",
    "labels_type1 = []\n",
    "labels_type2 = []\n",
    "\n",
    "# Load and preprocess images\n",
    "for img_path in glob.glob(os.path.join(img_dir_type1, '*.jpg')):\n",
    "    img = Image.open(img_path)\n",
    "    img = img.resize((img_height, img_width))\n",
    "    img = np.array(img) / 255.0  # Normalize pixel values\n",
    "    img_data_type1.append(img)\n",
    "    labels_type1.append(0)  # Label for type 1 images\n",
    "\n",
    "for img_path in glob.glob(os.path.join(img_dir_type2, '*.jpg')):\n",
    "    img = Image.open(img_path)\n",
    "    img = img.resize((img_height, img_width))\n",
    "    img = np.array(img) / 255.0  # Normalize pixel values\n",
    "    img_data_type2.append(img)\n",
    "    labels_type2.append(1)  # Label for type 2 images\n",
    "\n",
    "# Convert lists to numpy arrays\n",
    "img_data_type1 = np.array(img_data_type1)\n",
    "img_data_type2 = np.array(img_data_type2)\n",
    "labels_type1 = np.array(labels_type1)\n",
    "labels_type2 = np.array(labels_type2)\n",
    "\n",
    "# Create h5py files\n",
    "with h5py.File('images_type1.h5', 'w') as f:\n",
    "    f.create_dataset('images', data=img_data_type1)\n",
    "    f.create_dataset('labels', data=labels_type1)\n",
    "\n",
    "with h5py.File('images_type2.h5', 'w') as f:\n",
    "    f.create_dataset('images', data=img_data_type2)\n",
    "    f.create_dataset('labels', data=labels_type2)\n",
    "\n",
    "\n"
   ]
  }
 ],
 "metadata": {
  "kernelspec": {
   "display_name": "venv",
   "language": "python",
   "name": "python3"
  },
  "language_info": {
   "codemirror_mode": {
    "name": "ipython",
    "version": 3
   },
   "file_extension": ".py",
   "mimetype": "text/x-python",
   "name": "python",
   "nbconvert_exporter": "python",
   "pygments_lexer": "ipython3",
   "version": "3.12.3"
  }
 },
 "nbformat": 4,
 "nbformat_minor": 2
}
